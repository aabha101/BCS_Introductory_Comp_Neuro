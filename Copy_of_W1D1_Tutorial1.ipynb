{
  "cells": [
    {
      "cell_type": "markdown",
      "metadata": {
        "id": "view-in-github",
        "colab_type": "text"
      },
      "source": [
        "<a href=\"https://colab.research.google.com/github/aabha101/BCS_Introductory_Comp_Neuro/blob/main/Copy_of_W1D1_Tutorial1.ipynb\" target=\"_parent\"><img src=\"https://colab.research.google.com/assets/colab-badge.svg\" alt=\"Open In Colab\"/></a>"
      ]
    },
    {
      "cell_type": "markdown",
      "metadata": {
        "execution": {},
        "id": "ZgtVhbqOP7Cy"
      },
      "source": [
        "# Tutorial 1: \"What\" models\n",
        "**Week 1, Day 1: Model Types**\n",
        "\n",
        "**By Neuromatch Academy**\n",
        "\n",
        "__Content creators:__ Matt Laporte, Byron Galbraith, Konrad Kording\n",
        "\n",
        "__Content reviewers:__ Dalin Guo, Aishwarya Balwani, Madineh Sarvestani, Maryam Vaziri-Pashkam, Michael Waskom, Ella Batty\n",
        "\n",
        "__Post-production team:__ Gagana B, Spiros Chavlis\n",
        "\n",
        "We would like to acknowledge [Steinmetz _et al._ (2019)](https://www.nature.com/articles/s41586-019-1787-x) for sharing their data, a subset of which is used here.\n"
      ]
    },
    {
      "cell_type": "markdown",
      "metadata": {
        "execution": {},
        "id": "4ic6o19JP7C3"
      },
      "source": [
        "<p align='center'><img src='https://github.com/NeuromatchAcademy/widgets/blob/master/sponsors.png?raw=True'/></p>"
      ]
    },
    {
      "cell_type": "markdown",
      "metadata": {
        "execution": {},
        "id": "7R5HtL9fP7C3"
      },
      "source": [
        "___\n",
        "# Tutorial Objectives\n",
        "\n",
        "*Estimated timing of tutorial: 50 minutes*\n",
        "\n",
        "This is tutorial 1 of a 3-part series on different flavors of models used to understand neural data. In this tutorial we will explore 'What' models, used to describe the data. To understand what our data looks like, we will visualize it in different ways. Then we will compare it to simple mathematical models. Specifically, we will:\n",
        "\n",
        "- Load a dataset with spiking activity from hundreds of neurons and understand how it is organized\n",
        "- Make plots to visualize characteristics of the spiking activity across the population\n",
        "- Compute the distribution of \"inter-spike intervals\" (ISIs) for a single neuron\n",
        "- Consider several formal models of this distribution's shape and fit them to the data \"by hand\""
      ]
    },
    {
      "cell_type": "code",
      "execution_count": null,
      "metadata": {
        "cellView": "form",
        "execution": {},
        "id": "zoy0JBPIP7C4"
      },
      "outputs": [],
      "source": [
        "\n",
        "# @title Tutorial slides\n",
        "# @markdown These are the slides for the videos in all tutorials today\n",
        "from IPython.display import IFrame\n",
        "link_id = \"6dxwe\"\n",
        "print(f\"If you want to download the slides: https://osf.io/download/{link_id}/\")\n",
        "IFrame(src=f\"https://mfr.ca-1.osf.io/render?url=https://osf.io/{link_id}/?direct%26mode=render%26action=download%26mode=render\", width=854, height=480)"
      ]
    },
    {
      "cell_type": "code",
      "execution_count": null,
      "metadata": {
        "cellView": "form",
        "execution": {},
        "id": "DrxzuhZXP7C6"
      },
      "outputs": [],
      "source": [
        "# @title Video 1: \"What\" Models\n",
        "from ipywidgets import widgets\n",
        "from IPython.display import YouTubeVideo\n",
        "from IPython.display import IFrame\n",
        "from IPython.display import display\n",
        "\n",
        "\n",
        "class PlayVideo(IFrame):\n",
        "  def __init__(self, id, source, page=1, width=400, height=300, **kwargs):\n",
        "    self.id = id\n",
        "    if source == 'Bilibili':\n",
        "      src = f'https://player.bilibili.com/player.html?bvid={id}&page={page}'\n",
        "    elif source == 'Osf':\n",
        "      src = f'https://mfr.ca-1.osf.io/render?url=https://osf.io/download/{id}/?direct%26mode=render'\n",
        "    super(PlayVideo, self).__init__(src, width, height, **kwargs)\n",
        "\n",
        "\n",
        "def display_videos(video_ids, W=400, H=300, fs=1):\n",
        "  tab_contents = []\n",
        "  for i, video_id in enumerate(video_ids):\n",
        "    out = widgets.Output()\n",
        "    with out:\n",
        "      if video_ids[i][0] == 'Youtube':\n",
        "        video = YouTubeVideo(id=video_ids[i][1], width=W,\n",
        "                             height=H, fs=fs, rel=0)\n",
        "        print(f'Video available at https://youtube.com/watch?v={video.id}')\n",
        "      else:\n",
        "        video = PlayVideo(id=video_ids[i][1], source=video_ids[i][0], width=W,\n",
        "                          height=H, fs=fs, autoplay=False)\n",
        "        if video_ids[i][0] == 'Bilibili':\n",
        "          print(f'Video available at https://www.bilibili.com/video/{video.id}')\n",
        "        elif video_ids[i][0] == 'Osf':\n",
        "          print(f'Video available at https://osf.io/{video.id}')  \n",
        "      display(video)\n",
        "    tab_contents.append(out)\n",
        "  return tab_contents\n",
        "\n",
        "\n",
        "video_ids = [('Youtube', 'KgqR_jbjMQg'), ('Bilibili', 'BV1mz4y1X7ot')]\n",
        "tab_contents = display_videos(video_ids, W=854, H=480)\n",
        "tabs = widgets.Tab()\n",
        "tabs.children = tab_contents\n",
        "for i in range(len(tab_contents)):\n",
        "  tabs.set_title(i, video_ids[i][0])\n",
        "display(tabs)"
      ]
    },
    {
      "cell_type": "markdown",
      "metadata": {
        "execution": {},
        "id": "2_L0S7-TP7C7"
      },
      "source": [
        "# Setup\n",
        "\n"
      ]
    },
    {
      "cell_type": "markdown",
      "metadata": {
        "execution": {},
        "id": "LbougMu3P7C7"
      },
      "source": [
        "Python requires you to explicitly \"import\" libraries before their functions are available to use. We will always specify our imports at the beginning of each notebook or script."
      ]
    },
    {
      "cell_type": "code",
      "execution_count": 1,
      "metadata": {
        "execution": {},
        "pycharm": {
          "name": "#%%\n"
        },
        "id": "2UjmcLgnP7C8"
      },
      "outputs": [],
      "source": [
        "import numpy as np\n",
        "import matplotlib.pyplot as plt"
      ]
    },
    {
      "cell_type": "markdown",
      "metadata": {
        "execution": {},
        "id": "HsT7iBSOP7C8"
      },
      "source": [
        "Tutorial notebooks typically begin with several set-up steps that are hidden from view by default.\n",
        "\n",
        "**Important:** Even though the code is hidden, you still need to run it so that the rest of the notebook can work properly. Step through each cell, either by pressing the play button in the upper-left-hand corner or with a keyboard shortcut (`Cmd-Return` on a Mac, `Ctrl-Enter` otherwise). A number will appear inside the brackets (e.g. `[3]`) to tell you that the cell was executed and what order that happened in.\n",
        "\n",
        "If you are curious to see what is going on inside each cell, you can double click to expand. Once expanded, double-click the white space to the right of the editor to collapse again."
      ]
    },
    {
      "cell_type": "code",
      "execution_count": null,
      "metadata": {
        "cellView": "form",
        "execution": {},
        "pycharm": {
          "name": "#%%\n"
        },
        "id": "yaTjM_02P7C9"
      },
      "outputs": [],
      "source": [
        "# @title Figure Settings\n",
        "import ipywidgets as widgets #interactive display\n",
        "\n",
        "%matplotlib inline\n",
        "%config InlineBackend.figure_format = 'retina'\n",
        "plt.style.use(\"https://raw.githubusercontent.com/NeuromatchAcademy/course-content/main/nma.mplstyle\")"
      ]
    },
    {
      "cell_type": "code",
      "execution_count": null,
      "metadata": {
        "cellView": "form",
        "execution": {},
        "id": "8-zIHyhZP7C_"
      },
      "outputs": [],
      "source": [
        "# @title Plotting functions\n",
        "\n",
        "def plot_isis(single_neuron_isis):\n",
        "  plt.hist(single_neuron_isis, bins=50, histtype=\"stepfilled\")\n",
        "  plt.axvline(single_neuron_isis.mean(), color=\"orange\", label=\"Mean ISI\")\n",
        "  plt.xlabel(\"ISI duration (s)\")\n",
        "  plt.ylabel(\"Number of spikes\")\n",
        "  plt.legend()"
      ]
    },
    {
      "cell_type": "code",
      "execution_count": 2,
      "metadata": {
        "cellView": "form",
        "execution": {},
        "pycharm": {
          "name": "#%%\n"
        },
        "id": "wqOGxdSaP7C_"
      },
      "outputs": [],
      "source": [
        "#@title Data retrieval\n",
        "#@markdown This cell downloads the example dataset that we will use in this tutorial.\n",
        "import io\n",
        "import requests\n",
        "r = requests.get('https://osf.io/sy5xt/download')\n",
        "if r.status_code != 200:\n",
        "  print('Failed to download data')\n",
        "else:\n",
        "  spike_times = np.load(io.BytesIO(r.content), allow_pickle=True)['spike_times']"
      ]
    },
    {
      "cell_type": "markdown",
      "metadata": {
        "execution": {},
        "id": "j62C7fJiP7DA"
      },
      "source": [
        "---\n",
        "\n",
        "# Section 1: Exploring the Steinmetz dataset\n",
        "\n",
        "In this tutorial we will explore the structure of a neuroscience dataset.\n",
        "\n",
        "We consider a subset of data from a study of [Steinmetz _et al._ (2019)](https://www.nature.com/articles/s41586-019-1787-x). In this study, Neuropixels probes were implanted in the brains of mice. Electrical potentials were measured by hundreds of electrodes along the length of each probe. Each electrode's measurements captured local variations in the electric field due to nearby spiking neurons. A spike sorting algorithm was used to infer spike times and cluster spikes according to common origin: a single cluster of sorted spikes is causally attributed to a single neuron.\n",
        "\n",
        "In particular, a single recording session of spike times and neuron assignments was loaded and assigned to `spike_times` in the preceding setup.\n",
        "\n",
        "Typically a dataset comes with some information about its structure. However, this information may be incomplete. You might also apply some transformations or \"pre-processing\" to create a working representation of the data of interest, which might go partly undocumented depending on the circumstances. In any case it is important to be able to use the available tools to investigate unfamiliar aspects of a data structure.\n",
        "\n",
        "Let's see what our data looks like..."
      ]
    },
    {
      "cell_type": "markdown",
      "metadata": {
        "execution": {},
        "id": "GZa8VUZ7P7DA"
      },
      "source": [
        "## Section 1.1: Warming up with `spike_times`"
      ]
    },
    {
      "cell_type": "markdown",
      "metadata": {
        "execution": {},
        "id": "v4xzzUBPP7DA"
      },
      "source": [
        "What is the Python type of our variable?"
      ]
    },
    {
      "cell_type": "code",
      "execution_count": 3,
      "metadata": {
        "execution": {},
        "pycharm": {
          "name": "#%%\n"
        },
        "id": "ymTf35ylP7DB",
        "colab": {
          "base_uri": "https://localhost:8080/"
        },
        "outputId": "2445f79c-cbd0-4ced-a9e3-13bd682266a1"
      },
      "outputs": [
        {
          "output_type": "execute_result",
          "data": {
            "text/plain": [
              "numpy.ndarray"
            ]
          },
          "metadata": {},
          "execution_count": 3
        }
      ],
      "source": [
        "type(spike_times)"
      ]
    },
    {
      "cell_type": "markdown",
      "metadata": {
        "execution": {},
        "id": "dIGa6CDjP7DB"
      },
      "source": [
        "You should see `numpy.ndarray`, which means that it's a normal NumPy array.\n",
        "\n",
        "If you see an error message, it probably means that you did not execute the set-up cells at the top of the notebook. So go ahead and make sure to do that.\n",
        "\n",
        "Once everything is running properly, we can ask the next question about the dataset: what's its shape?"
      ]
    },
    {
      "cell_type": "code",
      "execution_count": 4,
      "metadata": {
        "execution": {},
        "pycharm": {
          "name": "#%%\n"
        },
        "id": "WwQ7HlI7P7DB",
        "colab": {
          "base_uri": "https://localhost:8080/"
        },
        "outputId": "9434ec67-d27e-4a26-dd4f-4d3b16a9d169"
      },
      "outputs": [
        {
          "output_type": "execute_result",
          "data": {
            "text/plain": [
              "(734,)"
            ]
          },
          "metadata": {},
          "execution_count": 4
        }
      ],
      "source": [
        "spike_times.shape"
      ]
    },
    {
      "cell_type": "markdown",
      "metadata": {
        "execution": {},
        "id": "rR6o3lSvP7DC"
      },
      "source": [
        "There are 734 entries in one dimension, and no other dimensions. What is the Python type of the first entry, and what is *its* shape?"
      ]
    },
    {
      "cell_type": "code",
      "execution_count": 5,
      "metadata": {
        "execution": {},
        "pycharm": {
          "name": "#%%\n"
        },
        "id": "Dxw_g-lWP7DC",
        "colab": {
          "base_uri": "https://localhost:8080/"
        },
        "outputId": "924b7676-b7d5-4e23-daa5-0527594fe9bc"
      },
      "outputs": [
        {
          "output_type": "stream",
          "name": "stdout",
          "text": [
            "<class 'numpy.ndarray'>\n",
            "(826,)\n"
          ]
        }
      ],
      "source": [
        "idx = 0\n",
        "print(\n",
        "  type(spike_times[idx]),\n",
        "  spike_times[idx].shape,\n",
        "  sep=\"\\n\",\n",
        ")"
      ]
    },
    {
      "cell_type": "markdown",
      "metadata": {
        "execution": {},
        "id": "zxndO3iXP7DC"
      },
      "source": [
        "It's also a NumPy array with a 1D shape! Why didn't this show up as a second dimension in the shape of `spike_times`? That is, why not `spike_times.shape == (734, 826)`?\n",
        "\n",
        "To investigate, let's check another entry."
      ]
    },
    {
      "cell_type": "code",
      "execution_count": 6,
      "metadata": {
        "execution": {},
        "pycharm": {
          "name": "#%%\n"
        },
        "id": "7sKT08-GP7DD",
        "colab": {
          "base_uri": "https://localhost:8080/"
        },
        "outputId": "6ac50408-7cf8-4eff-fc14-2b41360386fa"
      },
      "outputs": [
        {
          "output_type": "stream",
          "name": "stdout",
          "text": [
            "<class 'numpy.ndarray'>\n",
            "(9723,)\n"
          ]
        }
      ],
      "source": [
        "idx = 321\n",
        "print(\n",
        "  type(spike_times[idx]),\n",
        "  spike_times[idx].shape,\n",
        "  sep=\"\\n\",\n",
        ")"
      ]
    },
    {
      "cell_type": "markdown",
      "metadata": {
        "execution": {},
        "id": "L9g5ySXdP7DD"
      },
      "source": [
        "It's also a 1D NumPy array, but it has a different shape. Checking the NumPy types of the values in these arrays, and their first few elements, we see they are composed of floating point numbers (not another level of `np.ndarray`):"
      ]
    },
    {
      "cell_type": "code",
      "execution_count": 7,
      "metadata": {
        "execution": {},
        "pycharm": {
          "name": "#%%\n"
        },
        "id": "_GF2TSkaP7DD",
        "colab": {
          "base_uri": "https://localhost:8080/"
        },
        "outputId": "2f76f827-b17b-44eb-d675-fa29599f49ad"
      },
      "outputs": [
        {
          "output_type": "stream",
          "name": "stdout",
          "text": [
            "Neuron 0:\n",
            "float32\n",
            "[ 0.8149   14.822467 24.9646   25.1436   38.8709  ]\n",
            "\n",
            "\n",
            "Neuron 321:\n",
            "float32\n",
            "[1.0698667 1.1536334 1.2403667 1.7072    1.799    ]\n",
            "\n",
            "\n"
          ]
        }
      ],
      "source": [
        "i_neurons = [0, 321]\n",
        "i_print = slice(0, 5)\n",
        "\n",
        "for i in i_neurons:\n",
        "  print(\n",
        "    \"Neuron {}:\".format(i),\n",
        "    spike_times[i].dtype,\n",
        "    spike_times[i][i_print],\n",
        "    \"\\n\",\n",
        "    sep=\"\\n\"\n",
        "  )"
      ]
    },
    {
      "cell_type": "markdown",
      "metadata": {
        "execution": {},
        "id": "rudIHdw8P7DE"
      },
      "source": [
        "Note that this time we've checked the NumPy `dtype` rather than the Python variable type. These two arrays contain floating point numbers (\"floats\") with 32 bits of precision.\n",
        "\n",
        "The basic picture is coming together:\n",
        "- `spike_times` is 1D, its entries are NumPy arrays, and its length is the number of neurons (734): by indexing it, we select a subset of neurons.\n",
        "- An array in `spike_times` is also 1D and corresponds to a single neuron; its entries are floating point numbers, and its length is the number of spikes attributed to that neuron. By indexing it, we select a subset of spike times for that neuron.\n",
        "\n",
        "Visually, you can think of the data structure as looking something like this:\n",
        "\n",
        "```\n",
        "| . . . . . |\n",
        "| . . . . . . . . |\n",
        "| . . . |\n",
        "| . . . . . . . |\n",
        "```\n",
        "\n",
        "Before moving on, we'll calculate and store the number of neurons in the dataset and the number of spikes per neuron:"
      ]
    },
    {
      "cell_type": "code",
      "execution_count": 8,
      "metadata": {
        "execution": {},
        "pycharm": {
          "name": "#%%\n"
        },
        "id": "0PQbfIY_P7DE",
        "colab": {
          "base_uri": "https://localhost:8080/"
        },
        "outputId": "8857374e-9b2d-4abb-e21b-34dd2b1fc7ca"
      },
      "outputs": [
        {
          "output_type": "stream",
          "name": "stdout",
          "text": [
            "Number of neurons: 734\n",
            "Number of spikes for first five neurons: [826, 2818, 3953, 646, 1115]\n"
          ]
        }
      ],
      "source": [
        "n_neurons = len(spike_times)\n",
        "total_spikes_per_neuron = [len(spike_times_i) for spike_times_i in spike_times]\n",
        "\n",
        "print(f\"Number of neurons: {n_neurons}\")\n",
        "print(f\"Number of spikes for first five neurons: {total_spikes_per_neuron[:5]}\")"
      ]
    },
    {
      "cell_type": "code",
      "execution_count": null,
      "metadata": {
        "cellView": "form",
        "execution": {},
        "id": "o8POzKgWP7DF"
      },
      "outputs": [],
      "source": [
        "# @title Video 2: Exploring the dataset\n",
        "from ipywidgets import widgets\n",
        "from IPython.display import YouTubeVideo\n",
        "from IPython.display import IFrame\n",
        "from IPython.display import display\n",
        "\n",
        "\n",
        "class PlayVideo(IFrame):\n",
        "  def __init__(self, id, source, page=1, width=400, height=300, **kwargs):\n",
        "    self.id = id\n",
        "    if source == 'Bilibili':\n",
        "      src = f'https://player.bilibili.com/player.html?bvid={id}&page={page}'\n",
        "    elif source == 'Osf':\n",
        "      src = f'https://mfr.ca-1.osf.io/render?url=https://osf.io/download/{id}/?direct%26mode=render'\n",
        "    super(PlayVideo, self).__init__(src, width, height, **kwargs)\n",
        "\n",
        "\n",
        "def display_videos(video_ids, W=400, H=300, fs=1):\n",
        "  tab_contents = []\n",
        "  for i, video_id in enumerate(video_ids):\n",
        "    out = widgets.Output()\n",
        "    with out:\n",
        "      if video_ids[i][0] == 'Youtube':\n",
        "        video = YouTubeVideo(id=video_ids[i][1], width=W,\n",
        "                             height=H, fs=fs, rel=0)\n",
        "        print(f'Video available at https://youtube.com/watch?v={video.id}')\n",
        "      else:\n",
        "        video = PlayVideo(id=video_ids[i][1], source=video_ids[i][0], width=W,\n",
        "                          height=H, fs=fs, autoplay=False)\n",
        "        if video_ids[i][0] == 'Bilibili':\n",
        "          print(f'Video available at https://www.bilibili.com/video/{video.id}')\n",
        "        elif video_ids[i][0] == 'Osf':\n",
        "          print(f'Video available at https://osf.io/{video.id}')  \n",
        "      display(video)\n",
        "    tab_contents.append(out)\n",
        "  return tab_contents\n",
        "\n",
        "\n",
        "video_ids = [('Youtube', 'oHwYWUI_o1U'), ('Bilibili', 'BV1Hp4y1S7Au')]\n",
        "tab_contents = display_videos(video_ids, W=854, H=480)\n",
        "tabs = widgets.Tab()\n",
        "tabs.children = tab_contents\n",
        "for i in range(len(tab_contents)):\n",
        "  tabs.set_title(i, video_ids[i][0])\n",
        "display(tabs)"
      ]
    },
    {
      "cell_type": "markdown",
      "metadata": {
        "execution": {},
        "id": "tW78UZOQP7DF"
      },
      "source": [
        "## Section 1.2: Getting warmer: counting and plotting total spike counts\n",
        "\n",
        "As we've seen, the number of spikes over the entire recording is variable between neurons. More generally, some neurons tend to spike more than others in a given period. Let's explore what the distribution of spiking looks like across all the neurons in the dataset."
      ]
    },
    {
      "cell_type": "markdown",
      "metadata": {
        "execution": {},
        "id": "nojfllLxP7DF"
      },
      "source": [
        "Are most neurons \"loud\" or \"quiet\", compared to the average? To see, we'll define bins of constant width in terms of total spikes and count the neurons that fall in each bin. This is known as a \"histogram\".\n",
        "\n",
        "You can plot a histogram with the matplotlib function `plt.hist`. If you just need to compute it, you can use the numpy function `np.histogram` instead."
      ]
    },
    {
      "cell_type": "code",
      "execution_count": 9,
      "metadata": {
        "execution": {},
        "pycharm": {
          "name": "#%%\n"
        },
        "id": "hdf6pW-zP7DG",
        "colab": {
          "base_uri": "https://localhost:8080/",
          "height": 449
        },
        "outputId": "2860f8d7-6f0e-430c-91f8-94844e8ab9d2"
      },
      "outputs": [
        {
          "output_type": "display_data",
          "data": {
            "text/plain": [
              "<Figure size 640x480 with 1 Axes>"
            ],
            "image/png": "[encoded data removed]"
          },
          "metadata": {}
        }
      ],
      "source": [
        "plt.hist(total_spikes_per_neuron, bins=50, histtype=\"stepfilled\")\n",
        "plt.xlabel(\"Total spikes per neuron\")\n",
        "plt.ylabel(\"Number of neurons\");"
      ]
    },
    {
      "cell_type": "markdown",
      "metadata": {
        "execution": {},
        "id": "qYuHt2fPP7DG"
      },
      "source": [
        "Let's see what percentage of neurons have a below-average spike count:"
      ]
    },
    {
      "cell_type": "code",
      "execution_count": 10,
      "metadata": {
        "execution": {},
        "pycharm": {
          "name": "#%%\n"
        },
        "id": "28glKhPWP7DG",
        "colab": {
          "base_uri": "https://localhost:8080/"
        },
        "outputId": "da80c79f-00c2-4c63-f334-c97192cc1fd2"
      },
      "outputs": [
        {
          "output_type": "stream",
          "name": "stdout",
          "text": [
            "68.0% of neurons are below the mean\n"
          ]
        }
      ],
      "source": [
        "mean_spike_count = np.mean(total_spikes_per_neuron)\n",
        "frac_below_mean = (total_spikes_per_neuron < mean_spike_count).mean()\n",
        "print(f\"{frac_below_mean:2.1%} of neurons are below the mean\")"
      ]
    },
    {
      "cell_type": "markdown",
      "metadata": {
        "execution": {},
        "id": "hAVUmYWLP7DH"
      },
      "source": [
        "We can also see this by adding the average spike count to the histogram plot:"
      ]
    },
    {
      "cell_type": "code",
      "execution_count": 11,
      "metadata": {
        "execution": {},
        "pycharm": {
          "name": "#%%\n"
        },
        "id": "bjA0t3K1P7DH",
        "colab": {
          "base_uri": "https://localhost:8080/",
          "height": 449
        },
        "outputId": "9fce6703-b484-4507-e0c7-fb5ef2158887"
      },
      "outputs": [
        {
          "output_type": "display_data",
          "data": {
            "text/plain": [
              "<Figure size 640x480 with 1 Axes>"
            ],
            "image/png": "[encoded data removed]"
          },
          "metadata": {}
        }
      ],
      "source": [
        "plt.hist(total_spikes_per_neuron, bins=50, histtype=\"stepfilled\")\n",
        "plt.xlabel(\"Total spikes per neuron\")\n",
        "plt.ylabel(\"Number of neurons\")\n",
        "plt.axvline(mean_spike_count, color=\"orange\", label=\"Mean neuron\")\n",
        "plt.legend();"
      ]
    },
    {
      "cell_type": "markdown",
      "metadata": {
        "execution": {},
        "id": "XHGz8hKQP7DH"
      },
      "source": [
        "This shows that the majority of neurons are relatively \"quiet\" compared to the mean, while a small number of neurons are exceptionally \"loud\": they must have spiked more often to reach a large count.\n",
        "\n",
        "### Coding Exercise 1.2: Comparing mean and median neurons\n",
        "\n",
        "If the mean neuron is more active than 68% of the population, what does that imply about the relationship between the mean neuron and the median neuron?\n",
        "\n",
        "*Exercise objective:* Reproduce the plot above, but add the median neuron.\n"
      ]
    },
    {
      "cell_type": "code",
      "execution_count": 12,
      "metadata": {
        "execution": {},
        "pycharm": {
          "name": "#%%\n"
        },
        "id": "qRhsHjQ2P7DI",
        "colab": {
          "base_uri": "https://localhost:8080/",
          "height": 466
        },
        "outputId": "a598b45c-7778-4214-86cb-980594c13db1"
      },
      "outputs": [
        {
          "output_type": "execute_result",
          "data": {
            "text/plain": [
              "<matplotlib.legend.Legend at 0x7f5a341726b0>"
            ]
          },
          "metadata": {},
          "execution_count": 12
        },
        {
          "output_type": "display_data",
          "data": {
            "text/plain": [
              "<Figure size 640x480 with 1 Axes>"
            ],
            "image/png": "[encoded data removed]"
          },
          "metadata": {}
        }
      ],
      "source": [
        "#################################################################################\n",
        "## TODO for students:\n",
        "# Fill out function and remove\n",
        "#raise NotImplementedError(\"Student exercise: complete histogram plotting with median\")\n",
        "#################################################################################\n",
        "import numpy as np\n",
        "\n",
        "n_neurons = len(spike_times)\n",
        "total_spikes_per_neuron = [len(spike_times_i) for spike_times_i in spike_times]\n",
        "\n",
        "# Compute median spike count\n",
        "median_spike_count = np.median(total_spikes_per_neuron)  # Hint: Try the function np.median\n",
        "\n",
        "# Visualize median, mean, and histogram\n",
        "plt.hist(total_spikes_per_neuron, bins=50, histtype=\"stepfilled\")\n",
        "plt.axvline(median_spike_count, color=\"limegreen\", label=\"Median neuron\")\n",
        "plt.axvline(mean_spike_count, color=\"orange\", label=\"Mean neuron\")\n",
        "plt.xlabel(\"Total spikes per neuron\")\n",
        "plt.ylabel(\"Number of neurons\")\n",
        "plt.legend()"
      ]
    },
    {
      "cell_type": "markdown",
      "metadata": {
        "execution": {},
        "pycharm": {
          "name": "#%%\n"
        },
        "id": "CYJ-3MOBP7DI"
      },
      "source": [
        "[*Click for solution*](https://github.com/NeuromatchAcademy/course-content/tree/main//tutorials/W1D1_ModelTypes/solutions/W1D1_Tutorial1_Solution_9af91fe0.py)\n",
        "\n",
        "*Example output:*\n",
        "\n",
        "<img alt='Solution hint' align='left' width=1116.0 height=827.0 src=https://raw.githubusercontent.com/NeuromatchAcademy/course-content/main/tutorials/W1D1_ModelTypes/static/W1D1_Tutorial1_Solution_9af91fe0_0.png>\n",
        "\n"
      ]
    },
    {
      "cell_type": "markdown",
      "metadata": {
        "execution": {},
        "id": "59LGdcILP7DI"
      },
      "source": [
        "\n",
        "*Bonus:* The median is the 50th percentile. What about other percentiles? Can you show the interquartile range on the histogram?"
      ]
    },
    {
      "cell_type": "markdown",
      "metadata": {
        "execution": {},
        "id": "uJ1LnU49P7DJ"
      },
      "source": [
        "---\n",
        "\n",
        "# Section 2: Visualizing neuronal spiking activity\n",
        "\n",
        "*Estimated timing to here from start of tutorial: 15 min*"
      ]
    },
    {
      "cell_type": "markdown",
      "metadata": {
        "execution": {},
        "id": "HcpLkCH_P7DP"
      },
      "source": [
        "## Section 2.1: Getting a subset of the data\n",
        "\n",
        "Now we'll visualize trains of spikes. Because the recordings are long, we will first define a short time interval and restrict the visualization to only the spikes in this interval. We defined a helper function, `restrict_spike_times`, to do this for you. If you call `help()` on the function, it will tell you a little bit about itself:"
      ]
    },
    {
      "cell_type": "code",
      "execution_count": 14,
      "metadata": {
        "cellView": "form",
        "execution": {},
        "id": "_Dpvnk4YP7DQ"
      },
      "outputs": [],
      "source": [
        "# @markdown Execute this cell for helper function `restrict_spike_times`\n",
        "def restrict_spike_times(spike_times, interval):\n",
        "  \"\"\"Given a spike_time dataset, restrict to spikes within given interval.\n",
        "\n",
        "  Args:\n",
        "    spike_times (sequence of np.ndarray): List or array of arrays,\n",
        "      each inner array has spike times for a single neuron.\n",
        "    interval (tuple): Min, max time values; keep min <= t < max.\n",
        "\n",
        "  Returns:\n",
        "    np.ndarray: like `spike_times`, but only within `interval`\n",
        "  \"\"\"\n",
        "  interval_spike_times = []\n",
        "  for spikes in spike_times:\n",
        "    interval_mask = (spikes >= interval[0]) & (spikes < interval[1])\n",
        "    interval_spike_times.append(spikes[interval_mask])\n",
        "  return np.array(interval_spike_times, object)"
      ]
    },
    {
      "cell_type": "code",
      "execution_count": 15,
      "metadata": {
        "execution": {},
        "pycharm": {
          "name": "#%%\n"
        },
        "id": "wvM8fJyGP7DQ",
        "colab": {
          "base_uri": "https://localhost:8080/"
        },
        "outputId": "076f49db-42fa-4c13-a633-8a018299dbb0"
      },
      "outputs": [
        {
          "output_type": "stream",
          "name": "stdout",
          "text": [
            "Help on function restrict_spike_times in module __main__:\n",
            "\n",
            "restrict_spike_times(spike_times, interval)\n",
            "    Given a spike_time dataset, restrict to spikes within given interval.\n",
            "    \n",
            "    Args:\n",
            "      spike_times (sequence of np.ndarray): List or array of arrays,\n",
            "        each inner array has spike times for a single neuron.\n",
            "      interval (tuple): Min, max time values; keep min <= t < max.\n",
            "    \n",
            "    Returns:\n",
            "      np.ndarray: like `spike_times`, but only within `interval`\n",
            "\n"
          ]
        }
      ],
      "source": [
        "help(restrict_spike_times)"
      ]
    },
    {
      "cell_type": "code",
      "execution_count": 16,
      "metadata": {
        "execution": {},
        "pycharm": {
          "name": "#%%\n"
        },
        "id": "Q95yEJnbP7DQ"
      },
      "outputs": [],
      "source": [
        "t_interval = (5, 15)  # units are seconds after start of recording\n",
        "interval_spike_times = restrict_spike_times(spike_times, t_interval)"
      ]
    },
    {
      "cell_type": "markdown",
      "metadata": {
        "execution": {},
        "id": "kiCLK9aKP7DQ"
      },
      "source": [
        "Is this a representative interval? What fraction of the total spikes fall in this interval?"
      ]
    },
    {
      "cell_type": "code",
      "execution_count": 17,
      "metadata": {
        "execution": {},
        "pycharm": {
          "name": "#%%\n"
        },
        "id": "QP35n-8uP7DR",
        "colab": {
          "base_uri": "https://localhost:8080/"
        },
        "outputId": "3a1c59cc-e011-4fc1-eb83-7116d52ab2a4"
      },
      "outputs": [
        {
          "output_type": "stream",
          "name": "stdout",
          "text": [
            "0.33% of the total spikes are in the interval\n"
          ]
        }
      ],
      "source": [
        "original_counts = sum([len(spikes) for spikes in spike_times])\n",
        "interval_counts = sum([len(spikes) for spikes in interval_spike_times])\n",
        "frac_interval_spikes = interval_counts / original_counts\n",
        "print(f\"{frac_interval_spikes:.2%} of the total spikes are in the interval\")"
      ]
    },
    {
      "cell_type": "markdown",
      "metadata": {
        "execution": {},
        "id": "bkVXeoDAP7DR"
      },
      "source": [
        "How does this compare to the ratio between the interval duration and the experiment duration? (What fraction of the total time is in this interval?)\n",
        "\n",
        "We can approximate the experiment duration by taking the minimum and maximum spike time in the whole dataset. To do that, we \"concatenate\" all of the neurons into one array and then use `np.ptp` (\"peak-to-peak\") to get the difference between the maximum and minimum value:"
      ]
    },
    {
      "cell_type": "code",
      "execution_count": 18,
      "metadata": {
        "execution": {},
        "pycharm": {
          "name": "#%%\n"
        },
        "id": "fUiUD2-mP7DR",
        "colab": {
          "base_uri": "https://localhost:8080/"
        },
        "outputId": "f13b6fff-57dc-4f1a-a3d0-2a9314408b03"
      },
      "outputs": [
        {
          "output_type": "stream",
          "name": "stdout",
          "text": [
            "0.37% of the total time is in the interval\n"
          ]
        }
      ],
      "source": [
        "spike_times_flat = np.concatenate(spike_times)\n",
        "experiment_duration = np.ptp(spike_times_flat)\n",
        "interval_duration = t_interval[1] - t_interval[0]\n",
        "\n",
        "frac_interval_time = interval_duration / experiment_duration\n",
        "print(f\"{frac_interval_time:.2%} of the total time is in the interval\")"
      ]
    },
    {
      "cell_type": "markdown",
      "metadata": {
        "execution": {},
        "id": "fpQTF1sPP7DR"
      },
      "source": [
        "These two values—the fraction of total spikes and the fraction of total time—are similar. This suggests the average spike rate of the neuronal population is not very different in this interval compared to the entire recording.\n",
        "\n",
        "## Section 2.2: Plotting spike trains and rasters\n",
        "\n",
        "Now that we have a representative subset, we're ready to plot the spikes, using the matplotlib `plt.eventplot` function. Let's look at a single neuron first:"
      ]
    },
    {
      "cell_type": "code",
      "execution_count": 19,
      "metadata": {
        "execution": {},
        "pycharm": {
          "name": "#%%\n"
        },
        "id": "vgPoMyqHP7DS",
        "colab": {
          "base_uri": "https://localhost:8080/",
          "height": 449
        },
        "outputId": "df520273-ef14-42d1-f876-8c78ec5a9113"
      },
      "outputs": [
        {
          "output_type": "display_data",
          "data": {
            "text/plain": [
              "<Figure size 640x480 with 1 Axes>"
            ],
            "image/png": "[encoded data removed]"
          },
          "metadata": {}
        }
      ],
      "source": [
        "neuron_idx = 1\n",
        "plt.eventplot(interval_spike_times[neuron_idx], color=\".2\")\n",
        "plt.xlabel(\"Time (s)\")\n",
        "plt.yticks([]);"
      ]
    },
    {
      "cell_type": "markdown",
      "metadata": {
        "execution": {},
        "id": "TREVJ3NVP7DS"
      },
      "source": [
        "We can also plot multiple neurons. Here are three:"
      ]
    },
    {
      "cell_type": "code",
      "execution_count": 20,
      "metadata": {
        "execution": {},
        "pycharm": {
          "name": "#%%\n"
        },
        "id": "ksksbC-VP7DT",
        "colab": {
          "base_uri": "https://localhost:8080/",
          "height": 449
        },
        "outputId": "10258167-cdcd-494a-ca2b-06d3c481c587"
      },
      "outputs": [
        {
          "output_type": "display_data",
          "data": {
            "text/plain": [
              "<Figure size 640x480 with 1 Axes>"
            ],
            "image/png": "[encoded data removed]"
          },
          "metadata": {}
        }
      ],
      "source": [
        "neuron_idx = [1, 11, 51]\n",
        "plt.eventplot(interval_spike_times[neuron_idx], color=\".2\")\n",
        "plt.xlabel(\"Time (s)\")\n",
        "plt.yticks([]);"
      ]
    },
    {
      "cell_type": "markdown",
      "metadata": {
        "execution": {},
        "id": "0CMseq2RP7DT"
      },
      "source": [
        "This makes a \"raster\" plot, where the spikes from each neuron appear in a different row.\n",
        "\n",
        "Plotting a large number of neurons can give you a sense for the characteristics in the population. Let's show every 5th neuron that was recorded:"
      ]
    },
    {
      "cell_type": "code",
      "execution_count": 21,
      "metadata": {
        "execution": {},
        "pycharm": {
          "name": "#%%\n"
        },
        "id": "ps7xrwOIP7DT",
        "colab": {
          "base_uri": "https://localhost:8080/",
          "height": 449
        },
        "outputId": "f03e980d-4721-40d1-95ea-93784cb7ddfd"
      },
      "outputs": [
        {
          "output_type": "display_data",
          "data": {
            "text/plain": [
              "<Figure size 640x480 with 1 Axes>"
            ],
            "image/png": "[encoded data removed]"
          },
          "metadata": {}
        }
      ],
      "source": [
        "neuron_idx = np.arange(0, len(spike_times), 5)\n",
        "plt.eventplot(interval_spike_times[neuron_idx], color=\".2\")\n",
        "plt.xlabel(\"Time (s)\")\n",
        "plt.yticks([]);"
      ]
    },
    {
      "cell_type": "markdown",
      "metadata": {
        "execution": {},
        "id": "rOm-ypYlP7DT"
      },
      "source": [
        "*Question*: How does the information in this plot relate to the histogram of total spike counts that you saw above?"
      ]
    },
    {
      "cell_type": "markdown",
      "metadata": {
        "execution": {},
        "id": "onDBlIvaP7DV"
      },
      "source": [
        "[*Click for solution*](https://github.com/NeuromatchAcademy/course-content/tree/main//tutorials/W1D1_ModelTypes/solutions/W1D1_Tutorial1_Solution_b01195c9.py)\n",
        "\n"
      ]
    },
    {
      "cell_type": "code",
      "execution_count": null,
      "metadata": {
        "cellView": "form",
        "execution": {},
        "id": "NLBfXUIyP7DV"
      },
      "outputs": [],
      "source": [
        "# @title Video 3: Visualizing activity\n",
        "from ipywidgets import widgets\n",
        "from IPython.display import YouTubeVideo\n",
        "from IPython.display import IFrame\n",
        "from IPython.display import display\n",
        "\n",
        "\n",
        "class PlayVideo(IFrame):\n",
        "  def __init__(self, id, source, page=1, width=400, height=300, **kwargs):\n",
        "    self.id = id\n",
        "    if source == 'Bilibili':\n",
        "      src = f'https://player.bilibili.com/player.html?bvid={id}&page={page}'\n",
        "    elif source == 'Osf':\n",
        "      src = f'https://mfr.ca-1.osf.io/render?url=https://osf.io/download/{id}/?direct%26mode=render'\n",
        "    super(PlayVideo, self).__init__(src, width, height, **kwargs)\n",
        "\n",
        "\n",
        "def display_videos(video_ids, W=400, H=300, fs=1):\n",
        "  tab_contents = []\n",
        "  for i, video_id in enumerate(video_ids):\n",
        "    out = widgets.Output()\n",
        "    with out:\n",
        "      if video_ids[i][0] == 'Youtube':\n",
        "        video = YouTubeVideo(id=video_ids[i][1], width=W,\n",
        "                             height=H, fs=fs, rel=0)\n",
        "        print(f'Video available at https://youtube.com/watch?v={video.id}')\n",
        "      else:\n",
        "        video = PlayVideo(id=video_ids[i][1], source=video_ids[i][0], width=W,\n",
        "                          height=H, fs=fs, autoplay=False)\n",
        "        if video_ids[i][0] == 'Bilibili':\n",
        "          print(f'Video available at https://www.bilibili.com/video/{video.id}')\n",
        "        elif video_ids[i][0] == 'Osf':\n",
        "          print(f'Video available at https://osf.io/{video.id}')  \n",
        "      display(video)\n",
        "    tab_contents.append(out)\n",
        "  return tab_contents\n",
        "\n",
        "\n",
        "video_ids = [('Youtube', 'QGA5FCW7kkA'), ('Bilibili', 'BV1dt4y1Q7C5')]\n",
        "tab_contents = display_videos(video_ids, W=854, H=480)\n",
        "tabs = widgets.Tab()\n",
        "tabs.children = tab_contents\n",
        "for i in range(len(tab_contents)):\n",
        "  tabs.set_title(i, video_ids[i][0])\n",
        "display(tabs)"
      ]
    },
    {
      "cell_type": "markdown",
      "metadata": {
        "execution": {},
        "id": "oki60dJEP7DW"
      },
      "source": [
        "---\n",
        "\n",
        "# Section 3: Inter-spike intervals and their distributions\n",
        "\n",
        "*Estimated timing to here from start of tutorial: 25 min*"
      ]
    },
    {
      "cell_type": "markdown",
      "metadata": {
        "execution": {},
        "id": "M-GaOmDSP7DW"
      },
      "source": [
        "Given the ordered arrays of spike times for each neuron in `spike_times`, which we've just visualized, what can we ask next?\n",
        "\n",
        "Scientific questions are informed by existing models. So, what knowledge do we already have that can inform questions about this data?\n",
        "\n",
        "We know that there are physical constraints on neuron spiking. Spiking costs energy, which the neuron's cellular machinery can only obtain at a finite rate. Therefore neurons should have a refractory period: they can only fire as quickly as their metabolic processes can support, and there is a minimum delay between consecutive spikes of the same neuron.\n",
        "\n",
        "More generally, we can ask \"how long does a neuron wait to spike again?\" or \"what is the longest a neuron will wait?\" Can we transform spike times into something else, to address questions like these more directly?\n",
        "\n",
        "We can consider the inter-spike times (or interspike intervals: ISIs). These are simply the time differences between consecutive spikes of the same neuron.\n",
        "\n",
        "### Exercise 3: Plot the distribution of ISIs for a single neuron\n",
        "\n",
        "*Exercise objective:* make a histogram, like we did for spike counts, to show the distribution of ISIs for one of the neurons in the dataset.\n",
        "\n",
        "Do this in three steps:\n",
        "\n",
        "1. Extract the spike times for one of the neurons\n",
        "2. Compute the ISIs (the amount of time between spikes, or equivalently, the difference between adjacent spike times)\n",
        "3. Plot a histogram with the array of individual ISIs"
      ]
    },
    {
      "cell_type": "code",
      "execution_count": 23,
      "metadata": {
        "execution": {},
        "pycharm": {
          "name": "#%%\n"
        },
        "id": "jN_oiCyuP7DW",
        "colab": {
          "base_uri": "https://localhost:8080/",
          "height": 449
        },
        "outputId": "59602bd2-bb13-4ec0-e727-80cb3863d926"
      },
      "outputs": [
        {
          "output_type": "display_data",
          "data": {
            "text/plain": [
              "<Figure size 640x480 with 1 Axes>"
            ],
            "image/png": "[encoded data removed]"
          },
          "metadata": {}
        }
      ],
      "source": [
        "import numpy as np\n",
        "import matplotlib.pyplot as plt\n",
        "\n",
        "def compute_single_neuron_isis(spike_times, neuron_idx):\n",
        "  \n",
        "  #############################################################################\n",
        "  # Students: Fill in missing code (...) and comment or remove the next line\n",
        "  #raise NotImplementedError(\"Exercise: compute single neuron ISIs\")\n",
        "  #############################################################################\n",
        "\n",
        "  # Extract the spike times for the specified neuron\n",
        "  single_neuron_spikes = spike_times[neuron_idx]\n",
        "\n",
        "  # Compute the ISIs for this set of spikes\n",
        "  # Hint: the function np.diff computes discrete differences along an array\n",
        "  isis = np.diff(single_neuron_spikes)\n",
        "\n",
        "  return isis\n",
        "\n",
        "# Compute ISIs\n",
        "single_neuron_isis = compute_single_neuron_isis(spike_times, neuron_idx=283)\n",
        "\n",
        "#Compute mean\n",
        "mean_ISI=np.mean(single_neuron_isis)\n",
        "\n",
        "def plot_isis(single_neuron_isis):\n",
        "  plt.hist(single_neuron_isis, bins=50, histtype=\"stepfilled\")\n",
        "  plt.axvline(mean_ISI, color=\"orange\", label=\"Mean ISI\")\n",
        "  plt.xlabel(\"ISI duration(s)\")\n",
        "  plt.ylabel(\"Numbre of Spikes\")\n",
        "  plt.legend()\n",
        "\n",
        "# Visualize ISIs\n",
        "plot_isis(single_neuron_isis)"
      ]
    },
    {
      "cell_type": "markdown",
      "metadata": {
        "execution": {},
        "pycharm": {
          "name": "#%%\n"
        },
        "id": "X-wfShweP7DX"
      },
      "source": [
        "[*Click for solution*](https://github.com/NeuromatchAcademy/course-content/tree/main//tutorials/W1D1_ModelTypes/solutions/W1D1_Tutorial1_Solution_2972c168.py)\n",
        "\n",
        "*Example output:*\n",
        "\n",
        "<img alt='Solution hint' align='left' width=1116.0 height=828.0 src=https://raw.githubusercontent.com/NeuromatchAcademy/course-content/main/tutorials/W1D1_ModelTypes/static/W1D1_Tutorial1_Solution_2972c168_0.png>\n",
        "\n"
      ]
    },
    {
      "cell_type": "markdown",
      "metadata": {
        "execution": {},
        "id": "S5eNsa1TP7DX"
      },
      "source": [
        "---\n",
        "\n",
        "In general, the shorter ISIs are predominant, with counts decreasing rapidly (and smoothly, more or less) with increasing ISI. However, counts also rapidly decrease to zero with _decreasing_ ISI below the maximum of the distribution (8-11 ms). The absence of these very low ISIs agrees with the refractory period hypothesis: the neuron cannot fire quickly enough to populate this region of the ISI distribution.\n",
        "\n",
        "Check the distributions of some other neurons. To resolve various features of the distributions, you might need to play with the value of `bins` in the call to `plt.hist`. Using too few bins might smooth over interesting details, but if you use too many bins, the random variability will start to dominate.\n",
        "\n",
        "You might also want to restrict the range to see the shape of the distribution when focusing on relatively short or long ISIs. *Hint:* `plt.hist` takes a `range` argument"
      ]
    },
    {
      "cell_type": "markdown",
      "metadata": {
        "execution": {},
        "id": "fJU06hOaP7DX"
      },
      "source": [
        "---\n",
        "\n",
        "# Section 4: What is the functional form of an ISI distribution?\n",
        "\n",
        "*Estimated timing to here from start of tutorial: 35 min*"
      ]
    },
    {
      "cell_type": "code",
      "execution_count": null,
      "metadata": {
        "cellView": "form",
        "execution": {},
        "id": "Qh0E1dXZP7DY"
      },
      "outputs": [],
      "source": [
        "# @title Video 4: ISI distribution\n",
        "from ipywidgets import widgets\n",
        "from IPython.display import YouTubeVideo\n",
        "from IPython.display import IFrame\n",
        "from IPython.display import display\n",
        "\n",
        "\n",
        "class PlayVideo(IFrame):\n",
        "  def __init__(self, id, source, page=1, width=400, height=300, **kwargs):\n",
        "    self.id = id\n",
        "    if source == 'Bilibili':\n",
        "      src = f'https://player.bilibili.com/player.html?bvid={id}&page={page}'\n",
        "    elif source == 'Osf':\n",
        "      src = f'https://mfr.ca-1.osf.io/render?url=https://osf.io/download/{id}/?direct%26mode=render'\n",
        "    super(PlayVideo, self).__init__(src, width, height, **kwargs)\n",
        "\n",
        "\n",
        "def display_videos(video_ids, W=400, H=300, fs=1):\n",
        "  tab_contents = []\n",
        "  for i, video_id in enumerate(video_ids):\n",
        "    out = widgets.Output()\n",
        "    with out:\n",
        "      if video_ids[i][0] == 'Youtube':\n",
        "        video = YouTubeVideo(id=video_ids[i][1], width=W,\n",
        "                             height=H, fs=fs, rel=0)\n",
        "        print(f'Video available at https://youtube.com/watch?v={video.id}')\n",
        "      else:\n",
        "        video = PlayVideo(id=video_ids[i][1], source=video_ids[i][0], width=W,\n",
        "                          height=H, fs=fs, autoplay=False)\n",
        "        if video_ids[i][0] == 'Bilibili':\n",
        "          print(f'Video available at https://www.bilibili.com/video/{video.id}')\n",
        "        elif video_ids[i][0] == 'Osf':\n",
        "          print(f'Video available at https://osf.io/{video.id}')  \n",
        "      display(video)\n",
        "    tab_contents.append(out)\n",
        "  return tab_contents\n",
        "\n",
        "\n",
        "video_ids = [('Youtube', 'DHhM80MOTe8'), ('Bilibili', 'BV1ov411B7Pm')]\n",
        "tab_contents = display_videos(video_ids, W=854, H=480)\n",
        "tabs = widgets.Tab()\n",
        "tabs.children = tab_contents\n",
        "for i in range(len(tab_contents)):\n",
        "  tabs.set_title(i, video_ids[i][0])\n",
        "display(tabs)"
      ]
    },
    {
      "cell_type": "markdown",
      "metadata": {
        "execution": {},
        "id": "lCaS_cdNP7DY"
      },
      "source": [
        "The ISI histograms seem to follow continuous, monotonically decreasing functions above their maxima. The function is clearly non-linear. Could it belong to a single family of functions?\n",
        "\n",
        "To motivate the idea of using a mathematical function to explain physiological phenomena, let's define a few different function forms that we might expect the relationship to follow: exponential, inverse, and linear."
      ]
    },
    {
      "cell_type": "code",
      "execution_count": 24,
      "metadata": {
        "execution": {},
        "pycharm": {
          "name": "#%%\n"
        },
        "id": "2eKd9nacP7DZ"
      },
      "outputs": [],
      "source": [
        "def exponential(xs, scale, rate, x0):\n",
        "  \"\"\"A simple parameterized exponential function, applied element-wise.\n",
        "\n",
        "  Args:\n",
        "    xs (np.ndarray or float): Input(s) to the function.\n",
        "    scale (float): Linear scaling factor.\n",
        "    rate (float): Exponential growth (positive) or decay (negative) rate.\n",
        "    x0 (float): Horizontal offset.\n",
        "\n",
        "  \"\"\"\n",
        "  ys = scale * np.exp(rate * (xs - x0))\n",
        "  return ys\n",
        "\n",
        "def inverse(xs, scale, x0):\n",
        "  \"\"\"A simple parameterized inverse function (`1/x`), applied element-wise.\n",
        "\n",
        "  Args:\n",
        "    xs (np.ndarray or float): Input(s) to the function.\n",
        "    scale (float): Linear scaling factor.\n",
        "    x0 (float): Horizontal offset.\n",
        "\n",
        "  \"\"\"\n",
        "  ys = scale / (xs - x0)\n",
        "  return ys\n",
        "\n",
        "def linear(xs, slope, y0):\n",
        "  \"\"\"A simple linear function, applied element-wise.\n",
        "\n",
        "  Args:\n",
        "    xs (np.ndarray or float): Input(s) to the function.\n",
        "    slope (float): Slope of the line.\n",
        "    y0 (float): y-intercept of the line.\n",
        "\n",
        "  \"\"\"\n",
        "  ys = slope * xs + y0\n",
        "  return ys"
      ]
    },
    {
      "cell_type": "markdown",
      "metadata": {
        "execution": {},
        "id": "0hyw276AP7DZ"
      },
      "source": [
        "### Interactive Demo 4: ISI functions explorer\n",
        "\n",
        "Here is an interactive demo where you can vary the parameters of these functions and see how well the resulting outputs correspond to the data. Adjust the parameters by moving the sliders and see how close you can get the lines to follow the falling curve of the histogram. This will give you a taste of what you're trying to do when you *fit a model* to data.\n",
        "\n",
        "\"Interactive demo\" cells have hidden code that defines an interface where you can play with the parameters of some function using sliders. You don't need to worry about how the code works – but you do need to **run the cell** to enable the sliders.\n",
        "\n",
        "- Which type of function (exponential/inverse/linear) can you make match the data best?\n"
      ]
    },
    {
      "cell_type": "code",
      "execution_count": null,
      "metadata": {
        "cellView": "form",
        "execution": {},
        "pycharm": {
          "name": "#%%\n"
        },
        "id": "msnys4LOP7Da"
      },
      "outputs": [],
      "source": [
        "#@title\n",
        "\n",
        "#@markdown Be sure to run this cell to enable the demo\n",
        "# Don't worry about understanding this code! It's to setup an interactive plot.\n",
        "single_neuron_idx = 283\n",
        "single_neuron_spikes = spike_times[single_neuron_idx]\n",
        "single_neuron_isis = np.diff(single_neuron_spikes)\n",
        "\n",
        "counts, edges = np.histogram(\n",
        "  single_neuron_isis,\n",
        "  bins=50,\n",
        "  range=(0, single_neuron_isis.max())\n",
        ")\n",
        "\n",
        "functions = dict(\n",
        "  exponential=exponential,\n",
        "  inverse=inverse,\n",
        "  linear=linear,\n",
        ")\n",
        "\n",
        "colors = dict(\n",
        "  exponential=\"C1\",\n",
        "  inverse=\"C2\",\n",
        "  linear=\"C4\",\n",
        ")\n",
        "\n",
        "@widgets.interact(\n",
        "  exp_scale=widgets.FloatSlider(1000, min=0, max=20000, step=250),\n",
        "  exp_rate=widgets.FloatSlider(-10, min=-200, max=50, step=1),\n",
        "  exp_x0=widgets.FloatSlider(0.1, min=-0.5, max=0.5, step=0.005),\n",
        "  inv_scale=widgets.FloatSlider(1000, min=0, max=3e2, step=10),\n",
        "  inv_x0=widgets.FloatSlider(0, min=-0.2, max=0.2, step=0.01),\n",
        "  lin_slope=widgets.FloatSlider(-1e5, min=-6e5, max=1e5, step=10000),\n",
        "  lin_y0=widgets.FloatSlider(10000, min=0, max=4e4, step=1000),\n",
        ")\n",
        "def fit_plot(\n",
        "  exp_scale=1000, exp_rate=-10, exp_x0=0.1,\n",
        "  inv_scale=1000, inv_x0=0,\n",
        "  lin_slope=-1e5, lin_y0=2000,\n",
        "):\n",
        "  \"\"\"Helper function for plotting function fits with interactive sliders.\"\"\"\n",
        "  func_params = dict(\n",
        "    exponential=(exp_scale, exp_rate, exp_x0),\n",
        "    inverse=(inv_scale, inv_x0),\n",
        "    linear=(lin_slope, lin_y0),\n",
        "  )\n",
        "  f, ax = plt.subplots()\n",
        "  ax.fill_between(edges[:-1], counts, step=\"post\", alpha=.5)\n",
        "  xs = np.linspace(1e-10, edges.max())\n",
        "  for name, function in functions.items():\n",
        "    ys = function(xs, *func_params[name])\n",
        "    ax.plot(xs, ys, lw=3, color=colors[name], label=name);\n",
        "  ax.set(\n",
        "      xlim=(edges.min(), edges.max()),\n",
        "      ylim=(0, counts.max() * 1.1),\n",
        "      xlabel=\"ISI (s)\",\n",
        "      ylabel=\"Number of spikes\",\n",
        "  )\n",
        "  ax.legend()"
      ]
    },
    {
      "cell_type": "markdown",
      "metadata": {
        "execution": {},
        "id": "SN6Lv-joP7Da"
      },
      "source": [
        "[*Click for solution*](https://github.com/NeuromatchAcademy/course-content/tree/main//tutorials/W1D1_ModelTypes/solutions/W1D1_Tutorial1_Solution_b6cd7761.py)\n",
        "\n"
      ]
    },
    {
      "cell_type": "code",
      "execution_count": null,
      "metadata": {
        "cellView": "form",
        "execution": {},
        "id": "sFyvyjMrP7Da"
      },
      "outputs": [],
      "source": [
        "# @title Video 5: Fitting models by hand\n",
        "from ipywidgets import widgets\n",
        "from IPython.display import YouTubeVideo\n",
        "from IPython.display import IFrame\n",
        "from IPython.display import display\n",
        "\n",
        "\n",
        "class PlayVideo(IFrame):\n",
        "  def __init__(self, id, source, page=1, width=400, height=300, **kwargs):\n",
        "    self.id = id\n",
        "    if source == 'Bilibili':\n",
        "      src = f'https://player.bilibili.com/player.html?bvid={id}&page={page}'\n",
        "    elif source == 'Osf':\n",
        "      src = f'https://mfr.ca-1.osf.io/render?url=https://osf.io/download/{id}/?direct%26mode=render'\n",
        "    super(PlayVideo, self).__init__(src, width, height, **kwargs)\n",
        "\n",
        "\n",
        "def display_videos(video_ids, W=400, H=300, fs=1):\n",
        "  tab_contents = []\n",
        "  for i, video_id in enumerate(video_ids):\n",
        "    out = widgets.Output()\n",
        "    with out:\n",
        "      if video_ids[i][0] == 'Youtube':\n",
        "        video = YouTubeVideo(id=video_ids[i][1], width=W,\n",
        "                             height=H, fs=fs, rel=0)\n",
        "        print(f'Video available at https://youtube.com/watch?v={video.id}')\n",
        "      else:\n",
        "        video = PlayVideo(id=video_ids[i][1], source=video_ids[i][0], width=W,\n",
        "                          height=H, fs=fs, autoplay=False)\n",
        "        if video_ids[i][0] == 'Bilibili':\n",
        "          print(f'Video available at https://www.bilibili.com/video/{video.id}')\n",
        "        elif video_ids[i][0] == 'Osf':\n",
        "          print(f'Video available at https://osf.io/{video.id}')  \n",
        "      display(video)\n",
        "    tab_contents.append(out)\n",
        "  return tab_contents\n",
        "\n",
        "\n",
        "video_ids = [('Youtube', 'uW2HDk_4-wk'), ('Bilibili', 'BV1w54y1S7Eb')]\n",
        "tab_contents = display_videos(video_ids, W=854, H=480)\n",
        "tabs = widgets.Tab()\n",
        "tabs.children = tab_contents\n",
        "for i in range(len(tab_contents)):\n",
        "  tabs.set_title(i, video_ids[i][0])\n",
        "display(tabs)"
      ]
    },
    {
      "cell_type": "markdown",
      "metadata": {
        "execution": {},
        "id": "SyqLMeveP7Db"
      },
      "source": [
        "---\n",
        "# Section 5: Reflecting on what models\n",
        "\n",
        "*Estimated timing to here from start of tutorial: 40 min*"
      ]
    },
    {
      "cell_type": "markdown",
      "metadata": {
        "execution": {},
        "id": "ssKHNGG2P7Db"
      },
      "source": [
        "## Think! 5: Reflecting on what models\n",
        "\n",
        "Please discuss the following questions for around 10 minutes with your group:\n",
        "- Have you seen what models before?\n",
        "- Have you ever done one?\n",
        "- Why are what models useful?\n",
        "- When are they possible? Does your field have what models?\n",
        "- What do we learn from constructing them?"
      ]
    },
    {
      "cell_type": "markdown",
      "metadata": {
        "execution": {},
        "id": "8eI-LHhIP7Db"
      },
      "source": [
        "---\n",
        "# Summary\n",
        "\n",
        "*Estimated timing of tutorial: 50 minutes*\n",
        "\n",
        "In this tutorial, we loaded some neural data and poked at it to understand how the dataset is organized. Then we made some basic plots to visualize (1) the average level of activity across the population and (2) the distribution of ISIs for an individual neuron. In the very last bit, we started to think about using mathematical formalisms to understand or explain some physiological phenomenon. All of this only allowed us to understand \"What\" the data looks like.\n",
        "\n",
        "This is the first step towards developing models that can tell us something about the brain. That's what we'll focus on in the next two tutorials."
      ]
    }
  ],
  "metadata": {
    "colab": {
      "provenance": [],
      "toc_visible": true,
      "include_colab_link": true
    },
    "kernel": {
      "display_name": "Python 3",
      "language": "python",
      "name": "python3"
    },
    "kernelspec": {
      "display_name": "Python 3",
      "name": "python3"
    },
    "language_info": {
      "codemirror_mode": {
        "name": "ipython",
        "version": 3
      },
      "file_extension": ".py",
      "mimetype": "text/x-python",
      "name": "python",
      "nbconvert_exporter": "python",
      "pygments_lexer": "ipython3",
      "version": "3.7.13"
    }
  },
  "nbformat": 4,
  "nbformat_minor": 0
}